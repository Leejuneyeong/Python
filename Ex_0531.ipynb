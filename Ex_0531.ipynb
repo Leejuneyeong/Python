{
 "cells": [
  {
   "cell_type": "markdown",
   "id": "c32c60eb",
   "metadata": {},
   "source": [
    "### 1. 랜덤수 만들기"
   ]
  },
  {
   "cell_type": "code",
   "execution_count": 1,
   "id": "1f99530d",
   "metadata": {},
   "outputs": [],
   "source": [
    "#랜덤 라이브러리 불러오기\n",
    "#import 키워드 활용!\n",
    "import random"
   ]
  },
  {
   "cell_type": "code",
   "execution_count": 14,
   "id": "c69179c8",
   "metadata": {},
   "outputs": [
    {
     "data": {
      "text/plain": [
       "0.6404140407841746"
      ]
     },
     "execution_count": 14,
     "metadata": {},
     "output_type": "execute_result"
    }
   ],
   "source": [
    "# random 라이브러리 안에 있는 random()\n",
    "random.random()"
   ]
  },
  {
   "cell_type": "code",
   "execution_count": 20,
   "id": "0c1a53f6",
   "metadata": {},
   "outputs": [],
   "source": [
    "# randint() : 정수 범위의 랜덤 수 생성!\n",
    "rd = random.randint(1,10)"
   ]
  },
  {
   "cell_type": "code",
   "execution_count": 22,
   "id": "d45d9e36",
   "metadata": {},
   "outputs": [
    {
     "data": {
      "text/plain": [
       "1"
      ]
     },
     "execution_count": 22,
     "metadata": {},
     "output_type": "execute_result"
    }
   ],
   "source": [
    "rd"
   ]
  },
  {
   "cell_type": "code",
   "execution_count": null,
   "id": "e9878058",
   "metadata": {},
   "outputs": [],
   "source": [
    "rn=random.randint(1,50)\n",
    "while True :\n",
    "    num=int(input(\"숫자를 입력하세요 >> \"))\n",
    "    if num>rn :\n",
    "        print(f\"{num}보다 작은 수 입니다.\")\n",
    "    elif num<rn :\n",
    "        print(f\"{num}보다 큰 수 입니다.\")\n",
    "    else :\n",
    "        print(\"정답을 맞추셨습니다.\")"
   ]
  },
  {
   "cell_type": "code",
   "execution_count": 38,
   "id": "529caced",
   "metadata": {},
   "outputs": [
    {
     "name": "stdout",
     "output_type": "stream",
     "text": [
      "숫자 입력 : 1\n",
      "누적결과 :  1\n",
      "숫자 입력 : 2\n",
      "누적결과 :  3\n",
      "숫자 입력 : 3\n",
      "누적결과 :  6\n",
      "숫자 입력 : 5\n",
      "누적결과 :  11\n",
      "숫자 입력 : -1\n",
      "종료되었습니다.\n"
     ]
    }
   ],
   "source": [
    "cnt=0\n",
    "while True :\n",
    "    a = int(input(\"숫자 입력 : \"))\n",
    "    if a == -1 :\n",
    "        print(\"종료되었습니다.\")\n",
    "        break\n",
    "    cnt=cnt+a\n",
    "    print(\"누적결과 : \",cnt)"
   ]
  },
  {
   "cell_type": "code",
   "execution_count": 43,
   "id": "1dcd2117",
   "metadata": {},
   "outputs": [
    {
     "name": "stdout",
     "output_type": "stream",
     "text": [
      "숫자 입력 >> 1\n",
      "짝수개수 :  0\n",
      "홀수개수 :  1\n",
      "숫자 입력 >> 2\n",
      "짝수개수 :  1\n",
      "홀수개수 :  1\n",
      "숫자 입력 >> 5\n",
      "짝수개수 :  1\n",
      "홀수개수 :  2\n",
      "숫자 입력 >> 10\n",
      "짝수개수 :  2\n",
      "홀수개수 :  2\n",
      "숫자 입력 >> 0\n",
      "종료되었습니다.\n"
     ]
    }
   ],
   "source": [
    "evencnt=0\n",
    "oddcnt=0\n",
    "while True :\n",
    "    num = int(input(\"숫자 입력 >> \"))\n",
    "    \n",
    "    if num%2==0 and num!=0:\n",
    "        evencnt+=1\n",
    "        print(\"짝수개수 : \", evencnt)\n",
    "        print(\"홀수개수 : \", oddcnt)\n",
    "    elif num==0 :\n",
    "        print(\"종료되었습니다.\")\n",
    "        break\n",
    "    else :\n",
    "        oddcnt+=1\n",
    "        print(\"짝수개수 : \", evencnt)\n",
    "        print(\"홀수개수 : \", oddcnt)"
   ]
  },
  {
   "cell_type": "markdown",
   "id": "13af3343",
   "metadata": {},
   "source": [
    "### 2. for문"
   ]
  },
  {
   "cell_type": "code",
   "execution_count": 44,
   "id": "2b5c4140",
   "metadata": {},
   "outputs": [
    {
     "name": "stdout",
     "output_type": "stream",
     "text": [
      "안\n",
      "녕\n",
      "하\n",
      "세\n",
      "요\n"
     ]
    }
   ],
   "source": [
    "s=\"안녕하세요\"\n",
    "\n",
    "for i in s :\n",
    "    print(i)"
   ]
  },
  {
   "cell_type": "code",
   "execution_count": 51,
   "id": "34c7f24d",
   "metadata": {},
   "outputs": [
    {
     "name": "stdout",
     "output_type": "stream",
     "text": [
      "1번 학생은 합격입니다.\n",
      "2번 학생은 불합격입니다.\n",
      "3번 학생은 합격입니다.\n",
      "4번 학생은 합격입니다.\n",
      "5번 학생은 불합격입니다.\n"
     ]
    }
   ],
   "source": [
    "cnt=1\n",
    "score_list = [90,45,70,60,55]\n",
    "for i in score_list :\n",
    "    if i >=60 :\n",
    "        print(f\"{cnt}번 학생은 합격입니다.\")\n",
    "    else :\n",
    "        print(f\"{cnt}번 학생은 불합격입니다.\")\n",
    "    cnt+=1"
   ]
  },
  {
   "cell_type": "code",
   "execution_count": 59,
   "id": "319e6d85",
   "metadata": {},
   "outputs": [
    {
     "name": "stdout",
     "output_type": "stream",
     "text": [
      "1, 2, 3, 4, 5, 6, 7, 8, 9, 10, "
     ]
    }
   ],
   "source": [
    "#range() 함수를 사용한 for문 활용하기!\n",
    "\n",
    "# 1~10 까지의 1씩 증가하는 숫자 출력하기\n",
    "for i in range(1,11,1):\n",
    "    #print(i,end=\" \")\n",
    "    print(i, end=\", \")"
   ]
  },
  {
   "cell_type": "code",
   "execution_count": 61,
   "id": "3d86712f",
   "metadata": {},
   "outputs": [
    {
     "name": "stdout",
     "output_type": "stream",
     "text": [
      "10, 11, 12, 13, 14, 15, 16, 17, 18, 19, "
     ]
    }
   ],
   "source": [
    "#range() -> 매개변수가 2개인 경우 범위안에서 자동적으로 1씩 증가\n",
    "for i in range(10, 20):\n",
    "    print(i, end=\", \")"
   ]
  },
  {
   "cell_type": "code",
   "execution_count": 63,
   "id": "7255555f",
   "metadata": {},
   "outputs": [
    {
     "name": "stdout",
     "output_type": "stream",
     "text": [
      "0, 1, 2, 3, 4, 5, 6, 7, 8, 9, "
     ]
    }
   ],
   "source": [
    "# range() -> 매개변수가 1개인 경우 0~입력 수 까지 자동적으로 1씩 증가\n",
    "for i in range(10) :\n",
    "    print(i, end=\", \")"
   ]
  },
  {
   "cell_type": "code",
   "execution_count": 64,
   "id": "4d63a21e",
   "metadata": {},
   "outputs": [
    {
     "name": "stdout",
     "output_type": "stream",
     "text": [
      "10, 30, 50, 70, 90, "
     ]
    }
   ],
   "source": [
    "# range() -> 매개변수가 3개인 경우 해당 범위 내에서 입력한 값 만큼 증가!\n",
    "for i in range(10,101,20):\n",
    "    print(i, end=\", \")"
   ]
  },
  {
   "cell_type": "code",
   "execution_count": 67,
   "id": "b22fab54",
   "metadata": {},
   "outputs": [
    {
     "name": "stdout",
     "output_type": "stream",
     "text": [
      "97, 96, 95, 94, 93, 92, 91, 90, 89, 88, 87, 86, 85, 84, 83, 82, 81, 80, 79, 78, 77, "
     ]
    }
   ],
   "source": [
    "for i in range(97, 76, -1) :\n",
    "    print(i, end=\", \")"
   ]
  },
  {
   "cell_type": "code",
   "execution_count": 66,
   "id": "fabed42e",
   "metadata": {},
   "outputs": [
    {
     "name": "stdout",
     "output_type": "stream",
     "text": [
      "23, 24, 25, 26, 27, 28, 29, 30, 31, 32, 33, 34, 35, 36, 37, 38, 39, "
     ]
    }
   ],
   "source": [
    "for i in range(23, 40, 1) :\n",
    "    print(i, end=\", \")"
   ]
  },
  {
   "cell_type": "code",
   "execution_count": 79,
   "id": "caa0703b",
   "metadata": {},
   "outputs": [
    {
     "name": "stdout",
     "output_type": "stream",
     "text": [
      "11, 13, 15, 17, 19, 21, 23, 25, 27, 29, 31, 33, 35, 37, 39, 41, 43, 45, 47, 49, 51, 53, 55, \n",
      "\n",
      "==============================================================================================\n",
      "11, 13, 15, 17, 19, 21, 23, 25, 27, 29, 31, 33, 35, 37, 39, 41, 43, 45, 47, 49, 51, 53, 55, "
     ]
    }
   ],
   "source": [
    "# 1. 범위를 만든 후 짝수/홀수 판단!\n",
    "for i in range(11, 56) :\n",
    "    if i%2 == 1 :\n",
    "        print(i, end=\", \")\n",
    "print(\"\\n\")\n",
    "print(\"==============================================================================================\")\n",
    "\n",
    "for i in range(11, 56, 2) :\n",
    "    print(i, end=\", \")"
   ]
  },
  {
   "cell_type": "code",
   "execution_count": 91,
   "id": "b866b59d",
   "metadata": {},
   "outputs": [
    {
     "name": "stdout",
     "output_type": "stream",
     "text": [
      "1683\n",
      "=====\n",
      "1683\n"
     ]
    }
   ],
   "source": [
    "sum = 0\n",
    "for i in range(1,101) :\n",
    "    if i%3==0 :\n",
    "        sum+=i\n",
    "    \n",
    "print(sum)\n",
    "\n",
    "print(\"=====\")\n",
    "\n",
    "sum1 = 0\n",
    "for i in range(3,101, 3) :\n",
    "        sum1+=i\n",
    "    \n",
    "print(sum1)"
   ]
  },
  {
   "cell_type": "code",
   "execution_count": 93,
   "id": "8e8c70f9",
   "metadata": {},
   "outputs": [
    {
     "name": "stdout",
     "output_type": "stream",
     "text": [
      "2 * 1 = 2\n",
      "2 * 2 = 4\n",
      "2 * 3 = 6\n",
      "2 * 4 = 8\n",
      "2 * 5 = 10\n",
      "2 * 6 = 12\n",
      "2 * 7 = 14\n",
      "2 * 8 = 16\n",
      "2 * 9 = 18\n"
     ]
    }
   ],
   "source": [
    "dan = 2\n",
    "\n",
    "for i in range(1,10) :\n",
    "    print(f'{dan} * {i} = {dan*i}')"
   ]
  },
  {
   "attachments": {
    "image.png": {
     "image/png": "[encoded data removed]"
    }
   },
   "cell_type": "markdown",
   "id": "f0140a5c",
   "metadata": {},
   "source": [
    "![image.png](attachment:image.png)\n"
   ]
  },
  {
   "cell_type": "code",
   "execution_count": null,
   "id": "614276a2",
   "metadata": {},
   "outputs": [],
   "source": []
  }
 ],
 "metadata": {
  "kernelspec": {
   "display_name": "Python 3 (ipykernel)",
   "language": "python",
   "name": "python3"
  },
  "language_info": {
   "codemirror_mode": {
    "name": "ipython",
    "version": 3
   },
   "file_extension": ".py",
   "mimetype": "text/x-python",
   "name": "python",
   "nbconvert_exporter": "python",
   "pygments_lexer": "ipython3",
   "version": "3.9.12"
  }
 },
 "nbformat": 4,
 "nbformat_minor": 5
}
