{
 "cells": [
  {
   "cell_type": "code",
   "execution_count": 10,
   "id": "48e4c79c",
   "metadata": {},
   "outputs": [
    {
     "name": "stdout",
     "output_type": "stream",
     "text": [
      "정수 입력 >> 15\n",
      "15은(는) 3과 5의 배수입니다.\n"
     ]
    }
   ],
   "source": [
    "num = int(input(\"정수 입력 >> \"))\n",
    "if num%3==0 and num%5==0:\n",
    "    # 여기서부터 if문에 해당하는 실행 문장!\n",
    "    print(f\"{num}은(는) 3과 5의 배수입니다.\")\n",
    "else :\n",
    "    print(f\"{num}은(는) 3과 5의 배수가 아닙니다.\")"
   ]
  },
  {
   "cell_type": "code",
   "execution_count": 16,
   "id": "f7c49e8b",
   "metadata": {},
   "outputs": [
    {
     "name": "stdout",
     "output_type": "stream",
     "text": [
      "정수 입력 >> 15\n",
      "정수 입력 >> 15\n",
      "두 수가 똑같습니다.\n"
     ]
    }
   ],
   "source": [
    "num1 = int(input(\"정수 입력 >> \"))\n",
    "num2 = int(input(\"정수 입력 >> \"))\n",
    "\n",
    "if num1>num2 :\n",
    "    print(\"첫 번째 정수가 더 큽니다.\")\n",
    "elif num1==num2 :\n",
    "    print(\"두 수가 똑같습니다.\")\n",
    "else :\n",
    "    print(\"두 번째 정수가 더 큽니다.\")"
   ]
  },
  {
   "cell_type": "code",
   "execution_count": 24,
   "id": "511c115d",
   "metadata": {},
   "outputs": [
    {
     "name": "stdout",
     "output_type": "stream",
     "text": [
      "점수 입력 >> 91\n",
      "91은 A학점 입니다.\n"
     ]
    }
   ],
   "source": [
    "score=int(input(\"점수 입력 >> \"))\n",
    "\n",
    "if 90<=score<=100 : #이렇게 해도 됨 파이썬은\n",
    "    grade = 'A'\n",
    "elif score>=80 and score<90 :\n",
    "    grade = 'B'\n",
    "elif score>=70 and score<80 :\n",
    "    grade = 'C'\n",
    "elif score>=60 and score<70 :\n",
    "    grade = 'D'\n",
    "else :\n",
    "    grade = 'F'\n",
    "    \n",
    "print(f\"{score}은 {grade}학점 입니다.\")"
   ]
  },
  {
   "cell_type": "markdown",
   "id": "420bd3b4",
   "metadata": {},
   "source": [
    "### 1. 리스트\n"
   ]
  },
  {
   "cell_type": "code",
   "execution_count": 27,
   "id": "017eac45",
   "metadata": {},
   "outputs": [
    {
     "data": {
      "text/plain": [
       "[1, 2, 3]"
      ]
     },
     "execution_count": 27,
     "metadata": {},
     "output_type": "execute_result"
    }
   ],
   "source": [
    "a = [1,2,3]\n",
    "a"
   ]
  },
  {
   "cell_type": "code",
   "execution_count": 28,
   "id": "a73bc8fb",
   "metadata": {},
   "outputs": [
    {
     "data": {
      "text/plain": [
       "['a', 'b', 'c']"
      ]
     },
     "execution_count": 28,
     "metadata": {},
     "output_type": "execute_result"
    }
   ],
   "source": [
    "b = ['a','b','c']\n",
    "b"
   ]
  },
  {
   "cell_type": "code",
   "execution_count": 29,
   "id": "9b0379b1",
   "metadata": {},
   "outputs": [
    {
     "data": {
      "text/plain": [
       "[1, 2, 'a', 'b', 3]"
      ]
     },
     "execution_count": 29,
     "metadata": {},
     "output_type": "execute_result"
    }
   ],
   "source": [
    "c = [1,2,'a','b',3]\n",
    "c"
   ]
  },
  {
   "cell_type": "code",
   "execution_count": 30,
   "id": "aa4abee6",
   "metadata": {},
   "outputs": [
    {
     "data": {
      "text/plain": [
       "[1, 2, 3, ['a', 'b']]"
      ]
     },
     "execution_count": 30,
     "metadata": {},
     "output_type": "execute_result"
    }
   ],
   "source": [
    "d = [1,2,3,['a','b']]\n",
    "d"
   ]
  },
  {
   "cell_type": "code",
   "execution_count": 31,
   "id": "7a32fd10",
   "metadata": {},
   "outputs": [
    {
     "name": "stdout",
     "output_type": "stream",
     "text": [
      "<class 'list'>\n",
      "<class 'list'>\n",
      "<class 'list'>\n",
      "<class 'list'>\n"
     ]
    }
   ],
   "source": [
    "print(type(a))\n",
    "print(type(b))\n",
    "print(type(c))\n",
    "print(type(d))"
   ]
  },
  {
   "cell_type": "markdown",
   "id": "ed4ac0f1",
   "metadata": {},
   "source": [
    "#### 리스트는 데이터의 형태에 상관없이 모두 한 곳에 담을 수 있다!"
   ]
  },
  {
   "cell_type": "code",
   "execution_count": 32,
   "id": "3f33a009",
   "metadata": {},
   "outputs": [
    {
     "data": {
      "text/plain": [
       "[1]"
      ]
     },
     "execution_count": 32,
     "metadata": {},
     "output_type": "execute_result"
    }
   ],
   "source": [
    "list1 = [1]\n",
    "list1"
   ]
  },
  {
   "cell_type": "code",
   "execution_count": 33,
   "id": "eeccec08",
   "metadata": {},
   "outputs": [
    {
     "data": {
      "text/plain": [
       "[]"
      ]
     },
     "execution_count": 33,
     "metadata": {},
     "output_type": "execute_result"
    }
   ],
   "source": [
    "list2 = []\n",
    "list2"
   ]
  },
  {
   "cell_type": "code",
   "execution_count": 34,
   "id": "0f8140d1",
   "metadata": {},
   "outputs": [
    {
     "name": "stdout",
     "output_type": "stream",
     "text": [
      "<class 'list'>\n",
      "<class 'list'>\n"
     ]
    }
   ],
   "source": [
    "print(type(list1))\n",
    "print(type(list2))"
   ]
  },
  {
   "cell_type": "code",
   "execution_count": 35,
   "id": "9bc8bcea",
   "metadata": {},
   "outputs": [
    {
     "data": {
      "text/plain": [
       "[1, 2, 3]"
      ]
     },
     "execution_count": 35,
     "metadata": {},
     "output_type": "execute_result"
    }
   ],
   "source": [
    "a"
   ]
  },
  {
   "cell_type": "code",
   "execution_count": 36,
   "id": "a8b1bab2",
   "metadata": {},
   "outputs": [
    {
     "data": {
      "text/plain": [
       "1"
      ]
     },
     "execution_count": 36,
     "metadata": {},
     "output_type": "execute_result"
    }
   ],
   "source": [
    "a[0]"
   ]
  },
  {
   "cell_type": "code",
   "execution_count": 37,
   "id": "0bfefac0",
   "metadata": {},
   "outputs": [
    {
     "data": {
      "text/plain": [
       "3"
      ]
     },
     "execution_count": 37,
     "metadata": {},
     "output_type": "execute_result"
    }
   ],
   "source": [
    "a[-1] # <- 리스트 맨 마지막"
   ]
  },
  {
   "cell_type": "code",
   "execution_count": 38,
   "id": "88d0e4c2",
   "metadata": {},
   "outputs": [
    {
     "data": {
      "text/plain": [
       "(3, 3)"
      ]
     },
     "execution_count": 38,
     "metadata": {},
     "output_type": "execute_result"
    }
   ],
   "source": [
    "a[2], a[-1]"
   ]
  },
  {
   "cell_type": "code",
   "execution_count": 40,
   "id": "559be53f",
   "metadata": {},
   "outputs": [
    {
     "data": {
      "text/plain": [
       "4"
      ]
     },
     "execution_count": 40,
     "metadata": {},
     "output_type": "execute_result"
    }
   ],
   "source": [
    "a[0]+a[2] # 연산 가능함"
   ]
  },
  {
   "cell_type": "code",
   "execution_count": 44,
   "id": "bb211fca",
   "metadata": {},
   "outputs": [],
   "source": [
    "list1 = [1,2,3,['a','b','c']]"
   ]
  },
  {
   "cell_type": "code",
   "execution_count": 45,
   "id": "5bc456c5",
   "metadata": {},
   "outputs": [
    {
     "data": {
      "text/plain": [
       "[1, 2, 3, ['a', 'b', 'c']]"
      ]
     },
     "execution_count": 45,
     "metadata": {},
     "output_type": "execute_result"
    }
   ],
   "source": [
    "list1"
   ]
  },
  {
   "cell_type": "code",
   "execution_count": 49,
   "id": "4080944d",
   "metadata": {},
   "outputs": [
    {
     "data": {
      "text/plain": [
       "['a', 'b', 'c']"
      ]
     },
     "execution_count": 49,
     "metadata": {},
     "output_type": "execute_result"
    }
   ],
   "source": [
    "#['a','b','c'] -> 추출하기!\n",
    "list1[3]\n",
    "temp = list1[3]\n",
    "temp"
   ]
  },
  {
   "cell_type": "code",
   "execution_count": 52,
   "id": "e0f89bc3",
   "metadata": {},
   "outputs": [
    {
     "data": {
      "text/plain": [
       "'b'"
      ]
     },
     "execution_count": 52,
     "metadata": {},
     "output_type": "execute_result"
    }
   ],
   "source": [
    "# ['a','b','c'] 중에서 'b' 만 추출\n",
    "list1[3][1] # <- 슬라이싱"
   ]
  },
  {
   "cell_type": "code",
   "execution_count": 53,
   "id": "1319a60f",
   "metadata": {},
   "outputs": [
    {
     "data": {
      "text/plain": [
       "[0, 1, 2, 3, 4]"
      ]
     },
     "execution_count": 53,
     "metadata": {},
     "output_type": "execute_result"
    }
   ],
   "source": [
    "list2 = [0,1,2,3,4]\n",
    "list2\n"
   ]
  },
  {
   "cell_type": "code",
   "execution_count": 61,
   "id": "c331b51d",
   "metadata": {},
   "outputs": [
    {
     "data": {
      "text/plain": [
       "[1, 2]"
      ]
     },
     "execution_count": 61,
     "metadata": {},
     "output_type": "execute_result"
    }
   ],
   "source": [
    "# list2 에서 1,2 가져오기 -> 슬라이싱 활용\n",
    "# 리스트명[ 시작 이상 : 끝 미만 ]\n",
    "list2[1:3]"
   ]
  },
  {
   "cell_type": "code",
   "execution_count": 62,
   "id": "d150e15f",
   "metadata": {},
   "outputs": [
    {
     "data": {
      "text/plain": [
       "[3, 4, 5, 6, 1, 2, 3]"
      ]
     },
     "execution_count": 62,
     "metadata": {},
     "output_type": "execute_result"
    }
   ],
   "source": [
    "list3 = [1,2,3]\n",
    "list4 = [3,4,5,6]\n",
    "list4+list3"
   ]
  },
  {
   "cell_type": "markdown",
   "id": "402136a8",
   "metadata": {},
   "source": [
    "### 2. 리스트 값 추가하기\n"
   ]
  },
  {
   "cell_type": "code",
   "execution_count": 63,
   "id": "324d5463",
   "metadata": {},
   "outputs": [
    {
     "data": {
      "text/plain": [
       "[0, 1, 2, 3, 4]"
      ]
     },
     "execution_count": 63,
     "metadata": {},
     "output_type": "execute_result"
    }
   ],
   "source": [
    "list2"
   ]
  },
  {
   "cell_type": "code",
   "execution_count": 64,
   "id": "014c78da",
   "metadata": {},
   "outputs": [],
   "source": [
    "#리스트명.append(데이터 값)\n",
    "list2.append(5)"
   ]
  },
  {
   "cell_type": "code",
   "execution_count": 71,
   "id": "6351871b",
   "metadata": {},
   "outputs": [
    {
     "data": {
      "text/plain": [
       "[0, 1, 7, 7, 2, 3, 4, 5, 6, 6]"
      ]
     },
     "execution_count": 71,
     "metadata": {},
     "output_type": "execute_result"
    }
   ],
   "source": [
    "list2.append(6)\n",
    "list2"
   ]
  },
  {
   "cell_type": "code",
   "execution_count": 68,
   "id": "34a28e26",
   "metadata": {},
   "outputs": [],
   "source": [
    "#리스트명.insert(인덱스, 데이터 값)\n",
    "list2.insert(2, 7)"
   ]
  },
  {
   "cell_type": "code",
   "execution_count": 72,
   "id": "5c632d52",
   "metadata": {
    "scrolled": true
   },
   "outputs": [
    {
     "data": {
      "text/plain": [
       "[0, 1, 7, 7, 2, 3, 4, 5, 6, 6]"
      ]
     },
     "execution_count": 72,
     "metadata": {},
     "output_type": "execute_result"
    }
   ],
   "source": [
    "list2"
   ]
  },
  {
   "cell_type": "markdown",
   "id": "f65efb7b",
   "metadata": {},
   "source": [
    "### 3. 리스트 값 수정하기\n"
   ]
  },
  {
   "cell_type": "code",
   "execution_count": 74,
   "id": "83f99c79",
   "metadata": {},
   "outputs": [],
   "source": [
    "list2 = [ 0,1,7,2,3,4,5,6]"
   ]
  },
  {
   "cell_type": "code",
   "execution_count": 78,
   "id": "5c54de02",
   "metadata": {},
   "outputs": [],
   "source": [
    "list2[2] = 10"
   ]
  },
  {
   "cell_type": "code",
   "execution_count": 80,
   "id": "94dcebc9",
   "metadata": {},
   "outputs": [
    {
     "data": {
      "text/plain": [
       "[0, 1, 10, 2, 3, 4, 5, 6]"
      ]
     },
     "execution_count": 80,
     "metadata": {},
     "output_type": "execute_result"
    }
   ],
   "source": [
    "list2"
   ]
  },
  {
   "cell_type": "code",
   "execution_count": 82,
   "id": "8a30dc43",
   "metadata": {},
   "outputs": [
    {
     "data": {
      "text/plain": [
       "[0, 1, 10, 3, 4, 5, 6]"
      ]
     },
     "execution_count": 82,
     "metadata": {},
     "output_type": "execute_result"
    }
   ],
   "source": [
    "list2[2:4] = [10] #범위를 묶어서 한번에 수정하는것\n",
    "list2"
   ]
  },
  {
   "cell_type": "markdown",
   "id": "9bd1d10a",
   "metadata": {},
   "source": [
    "### 4. 리스트 값 삭제\n"
   ]
  },
  {
   "cell_type": "code",
   "execution_count": 83,
   "id": "99fcf4ea",
   "metadata": {},
   "outputs": [],
   "source": [
    "# 방법 1 : del 키워드 사용 -> 인덱스를 사용하여 자리값을 기준으로 삭제!\n",
    "del list2[0] # < - del 리스트이름[인덱스]"
   ]
  },
  {
   "cell_type": "code",
   "execution_count": 84,
   "id": "0be5e204",
   "metadata": {},
   "outputs": [
    {
     "data": {
      "text/plain": [
       "[1, 10, 3, 4, 5, 6]"
      ]
     },
     "execution_count": 84,
     "metadata": {},
     "output_type": "execute_result"
    }
   ],
   "source": [
    "list2"
   ]
  },
  {
   "cell_type": "code",
   "execution_count": 85,
   "id": "4acb82ca",
   "metadata": {},
   "outputs": [],
   "source": [
    "#방법 2 : remove(데이터 값)\n",
    "list2.remove(5)"
   ]
  },
  {
   "cell_type": "code",
   "execution_count": 96,
   "id": "b0fb0af5",
   "metadata": {},
   "outputs": [
    {
     "data": {
      "text/plain": [
       "[1, 10, 3, 4, 6]"
      ]
     },
     "execution_count": 96,
     "metadata": {},
     "output_type": "execute_result"
    }
   ],
   "source": [
    "list2"
   ]
  },
  {
   "cell_type": "code",
   "execution_count": 97,
   "id": "61568b97",
   "metadata": {},
   "outputs": [],
   "source": [
    "list2.remove(3)"
   ]
  },
  {
   "cell_type": "code",
   "execution_count": 99,
   "id": "1c2ce2d5",
   "metadata": {},
   "outputs": [
    {
     "data": {
      "text/plain": [
       "[1, 10, 4, 6]"
      ]
     },
     "execution_count": 99,
     "metadata": {},
     "output_type": "execute_result"
    }
   ],
   "source": [
    "list2\n"
   ]
  },
  {
   "cell_type": "code",
   "execution_count": 101,
   "id": "a59b2070",
   "metadata": {},
   "outputs": [
    {
     "data": {
      "text/plain": [
       "100"
      ]
     },
     "execution_count": 101,
     "metadata": {},
     "output_type": "execute_result"
    }
   ],
   "source": [
    "#방법 3 : pop() -> 마지막 값을 반환 후 삭제!\n",
    "list5.pop()"
   ]
  },
  {
   "cell_type": "code",
   "execution_count": 102,
   "id": "d4c34ef7",
   "metadata": {},
   "outputs": [
    {
     "data": {
      "text/plain": [
       "[9, 77, 13, 51]"
      ]
     },
     "execution_count": 102,
     "metadata": {},
     "output_type": "execute_result"
    }
   ],
   "source": [
    "list5"
   ]
  },
  {
   "cell_type": "code",
   "execution_count": null,
   "id": "9df78763",
   "metadata": {},
   "outputs": [],
   "source": []
  },
  {
   "cell_type": "code",
   "execution_count": 89,
   "id": "b6ff82b4",
   "metadata": {},
   "outputs": [
    {
     "name": "stdout",
     "output_type": "stream",
     "text": [
      "원본 :  [1, 2, 3]\n",
      "결과 :  [3, 2, 1]\n"
     ]
    }
   ],
   "source": [
    "# 리스트의 순서(역순)를 바꾸틑 함수 ! -> reverse()\n",
    "print('원본 : ', list3)\n",
    "list3.reverse()\n",
    "print('결과 : ', list3)"
   ]
  },
  {
   "cell_type": "code",
   "execution_count": 90,
   "id": "5c6b96e1",
   "metadata": {},
   "outputs": [],
   "source": [
    "#sort() : 리스트 요소값들을 정렬하는 함수!\n",
    "list4 = [9,77,13,51,100,3]\n",
    "list4.sort()"
   ]
  },
  {
   "cell_type": "code",
   "execution_count": 91,
   "id": "d7fe4d4c",
   "metadata": {},
   "outputs": [
    {
     "data": {
      "text/plain": [
       "[3, 9, 13, 51, 77, 100]"
      ]
     },
     "execution_count": 91,
     "metadata": {},
     "output_type": "execute_result"
    }
   ],
   "source": [
    "list4"
   ]
  },
  {
   "cell_type": "code",
   "execution_count": 92,
   "id": "a58d7623",
   "metadata": {},
   "outputs": [
    {
     "data": {
      "text/plain": [
       "[3, 9, 13, 51, 77, 100]"
      ]
     },
     "execution_count": 92,
     "metadata": {},
     "output_type": "execute_result"
    }
   ],
   "source": [
    "# sorted()\n",
    "list5 = [9,77,13,51,100,3]\n",
    "sorted(list5)"
   ]
  },
  {
   "cell_type": "code",
   "execution_count": 93,
   "id": "90faea61",
   "metadata": {},
   "outputs": [
    {
     "data": {
      "text/plain": [
       "[9, 77, 13, 51, 100, 3]"
      ]
     },
     "execution_count": 93,
     "metadata": {},
     "output_type": "execute_result"
    }
   ],
   "source": [
    "list5"
   ]
  },
  {
   "cell_type": "code",
   "execution_count": 94,
   "id": "4b724e44",
   "metadata": {},
   "outputs": [
    {
     "data": {
      "text/plain": [
       "3"
      ]
     },
     "execution_count": 94,
     "metadata": {},
     "output_type": "execute_result"
    }
   ],
   "source": [
    "# 인덱스 값을 빠르게 찾는 함수 - > index(데이터 값)\n",
    "list5.index(51)"
   ]
  },
  {
   "cell_type": "code",
   "execution_count": 103,
   "id": "4eabf3c5",
   "metadata": {},
   "outputs": [
    {
     "data": {
      "text/plain": [
       "4"
      ]
     },
     "execution_count": 103,
     "metadata": {},
     "output_type": "execute_result"
    }
   ],
   "source": [
    "#리스트의 길이값을 확인할 수 있는 함수 -> len(리스트)\n",
    "len(list5)"
   ]
  },
  {
   "cell_type": "markdown",
   "id": "efc7acb2",
   "metadata": {},
   "source": [
    "### 5. 튜플\n"
   ]
  },
  {
   "cell_type": "code",
   "execution_count": 104,
   "id": "6d67219f",
   "metadata": {},
   "outputs": [],
   "source": [
    "a = (1,2,3)\n",
    "b = ('a','b')\n",
    "c = (1,2,'a')\n",
    "d = (1,2,('a','b'))\n",
    "e = ()"
   ]
  },
  {
   "cell_type": "code",
   "execution_count": 108,
   "id": "9ba6470d",
   "metadata": {},
   "outputs": [
    {
     "name": "stdout",
     "output_type": "stream",
     "text": [
      "<class 'tuple'>\n",
      "<class 'tuple'>\n",
      "<class 'tuple'>\n",
      "<class 'tuple'>\n",
      "<class 'tuple'>\n"
     ]
    }
   ],
   "source": [
    "print(type(a))\n",
    "print(type(b))\n",
    "print(type(c))\n",
    "print(type(d))\n",
    "print(type(e))"
   ]
  },
  {
   "cell_type": "code",
   "execution_count": 109,
   "id": "57eeb4c9",
   "metadata": {},
   "outputs": [],
   "source": [
    "list1 = [1]\n",
    "tuple1 = (1,)"
   ]
  },
  {
   "cell_type": "code",
   "execution_count": 113,
   "id": "ba168691",
   "metadata": {},
   "outputs": [
    {
     "name": "stdout",
     "output_type": "stream",
     "text": [
      "<class 'list'>\n",
      "<class 'int'>\n"
     ]
    }
   ],
   "source": [
    "print(type(list1))\n",
    "print(type(tuple1))"
   ]
  },
  {
   "cell_type": "code",
   "execution_count": 114,
   "id": "782316c8",
   "metadata": {},
   "outputs": [
    {
     "data": {
      "text/plain": [
       "(1, 2, ('a', 'b'))"
      ]
     },
     "execution_count": 114,
     "metadata": {},
     "output_type": "execute_result"
    }
   ],
   "source": [
    "d"
   ]
  },
  {
   "cell_type": "code",
   "execution_count": 115,
   "id": "018fb39f",
   "metadata": {},
   "outputs": [
    {
     "data": {
      "text/plain": [
       "2"
      ]
     },
     "execution_count": 115,
     "metadata": {},
     "output_type": "execute_result"
    }
   ],
   "source": [
    "d[1]"
   ]
  },
  {
   "cell_type": "code",
   "execution_count": 116,
   "id": "2725349a",
   "metadata": {},
   "outputs": [
    {
     "data": {
      "text/plain": [
       "'b'"
      ]
     },
     "execution_count": 116,
     "metadata": {},
     "output_type": "execute_result"
    }
   ],
   "source": [
    "d[2][1]"
   ]
  },
  {
   "cell_type": "code",
   "execution_count": 117,
   "id": "9d478c59",
   "metadata": {},
   "outputs": [
    {
     "ename": "AttributeError",
     "evalue": "'tuple' object has no attribute 'append'",
     "output_type": "error",
     "traceback": [
      "\u001b[1;31m---------------------------------------------------------------------------\u001b[0m",
      "\u001b[1;31mAttributeError\u001b[0m                            Traceback (most recent call last)",
      "Input \u001b[1;32mIn [117]\u001b[0m, in \u001b[0;36m<cell line: 1>\u001b[1;34m()\u001b[0m\n\u001b[1;32m----> 1\u001b[0m \u001b[43md\u001b[49m\u001b[38;5;241;43m.\u001b[39;49m\u001b[43mappend\u001b[49m(\u001b[38;5;241m5\u001b[39m)\n",
      "\u001b[1;31mAttributeError\u001b[0m: 'tuple' object has no attribute 'append'"
     ]
    }
   ],
   "source": [
    "d.append(5)"
   ]
  },
  {
   "cell_type": "code",
   "execution_count": 118,
   "id": "4826c7fa",
   "metadata": {},
   "outputs": [],
   "source": [
    "str1 = \"파이썬 최고\""
   ]
  },
  {
   "cell_type": "code",
   "execution_count": 119,
   "id": "9e262d0d",
   "metadata": {},
   "outputs": [
    {
     "data": {
      "text/plain": [
       "True"
      ]
     },
     "execution_count": 119,
     "metadata": {},
     "output_type": "execute_result"
    }
   ],
   "source": [
    "\"파이썬\" in str1"
   ]
  },
  {
   "cell_type": "code",
   "execution_count": 120,
   "id": "69566844",
   "metadata": {},
   "outputs": [
    {
     "data": {
      "text/plain": [
       "False"
      ]
     },
     "execution_count": 120,
     "metadata": {},
     "output_type": "execute_result"
    }
   ],
   "source": [
    "\"파이썬\" not in str1"
   ]
  },
  {
   "cell_type": "markdown",
   "id": "0a3c2840",
   "metadata": {},
   "source": [
    "### 6. 반복문"
   ]
  },
  {
   "cell_type": "code",
   "execution_count": 122,
   "id": "dd7484fa",
   "metadata": {},
   "outputs": [
    {
     "name": "stdout",
     "output_type": "stream",
     "text": [
      "1\n",
      "2\n",
      "3\n"
     ]
    }
   ],
   "source": [
    "num = 1 \n",
    "while num<=3 :\n",
    "    print(num)\n",
    "    num += 1"
   ]
  },
  {
   "cell_type": "code",
   "execution_count": 123,
   "id": "f7929f11",
   "metadata": {},
   "outputs": [
    {
     "name": "stdout",
     "output_type": "stream",
     "text": [
      "1 파이썬 최고\n",
      "2 파이썬 최고\n",
      "3 파이썬 최고\n",
      "4 파이썬 최고\n",
      "5 파이썬 최고\n",
      "6 파이썬 최고\n",
      "7 파이썬 최고\n",
      "8 파이썬 최고\n",
      "9 파이썬 최고\n",
      "10 파이썬 최고\n"
     ]
    }
   ],
   "source": [
    "# \"파이썬 최고\" 10번 출력하기\n",
    "cnt = 1\n",
    "\n",
    "while cnt <= 10 :\n",
    "    print(cnt, \"파이썬 최고\")\n",
    "    cnt+=1\n",
    "    "
   ]
  },
  {
   "cell_type": "code",
   "execution_count": 135,
   "id": "c98e1298",
   "metadata": {},
   "outputs": [
    {
     "name": "stdout",
     "output_type": "stream",
     "text": [
      "5050\n"
     ]
    }
   ],
   "source": [
    "num = 1\n",
    "sum = 0\n",
    "while num<=100 :\n",
    "    sum=sum+num\n",
    "    num+=1\n",
    "\n",
    "print(sum)\n",
    "\n"
   ]
  },
  {
   "cell_type": "code",
   "execution_count": 132,
   "id": "c8a7efba",
   "metadata": {},
   "outputs": [
    {
     "name": "stdout",
     "output_type": "stream",
     "text": [
      "정수 입력 >> 10\n",
      "55\n"
     ]
    }
   ],
   "source": [
    "num = int(input(\"정수 입력 >> \"))\n",
    "i=0\n",
    "sum = 0\n",
    "while i<=num :\n",
    "    sum+=i\n",
    "    i+=1\n",
    "\n",
    "print(sum)"
   ]
  },
  {
   "cell_type": "code",
   "execution_count": 145,
   "id": "466ad660",
   "metadata": {},
   "outputs": [
    {
     "name": "stdout",
     "output_type": "stream",
     "text": [
      "첫 번째 정수를 입력 >> 10\n",
      "두 번째 정수를 입력 >> 10\n",
      "두 정수의 합 :  20\n",
      "첫 번째 정수를 입력 >> 20\n",
      "두 번째 정수를 입력 >> 20\n",
      "두 정수의 합 :  40\n",
      "첫 번째 정수를 입력 >> 13\n",
      "두 번째 정수를 입력 >> 15\n",
      "두 정수의 합 :  28\n",
      "첫 번째 정수를 입력 >> 0\n",
      "두 번째 정수를 입력 >> 0\n",
      "프로그램이 종료되었습니다.\n"
     ]
    }
   ],
   "source": [
    "while 1 :\n",
    "    num1 = int(input(\"첫 번째 정수를 입력 >> \"))\n",
    "    num2 = int(input(\"두 번째 정수를 입력 >> \"))\n",
    "    \n",
    "    if num1==0 and num2==0 :\n",
    "        print(\"프로그램이 종료되었습니다.\")\n",
    "        break\n",
    "        \n",
    "    else :\n",
    "        print(\"두 정수의 합 : \",num1 + num2)    "
   ]
  },
  {
   "cell_type": "code",
   "execution_count": null,
   "id": "12483b44",
   "metadata": {},
   "outputs": [],
   "source": []
  }
 ],
 "metadata": {
  "kernelspec": {
   "display_name": "Python 3 (ipykernel)",
   "language": "python",
   "name": "python3"
  },
  "language_info": {
   "codemirror_mode": {
    "name": "ipython",
    "version": 3
   },
   "file_extension": ".py",
   "mimetype": "text/x-python",
   "name": "python",
   "nbconvert_exporter": "python",
   "pygments_lexer": "ipython3",
   "version": "3.9.12"
  }
 },
 "nbformat": 4,
 "nbformat_minor": 5
}
